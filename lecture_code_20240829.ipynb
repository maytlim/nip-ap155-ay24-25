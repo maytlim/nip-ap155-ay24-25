{
  "cells": [
    {
      "cell_type": "markdown",
      "metadata": {
        "id": "view-in-github",
        "colab_type": "text"
      },
      "source": [
        "<a href=\"https://colab.research.google.com/github/maytlim/nip-ap155-ay24-25/blob/main/lecture_code_20240829.ipynb\" target=\"_parent\"><img src=\"https://colab.research.google.com/assets/colab-badge.svg\" alt=\"Open In Colab\"/></a>"
      ]
    },
    {
      "cell_type": "code",
      "execution_count": null,
      "id": "3ba83be8-750f-48ef-8e72-1e90bcbabde9",
      "metadata": {
        "id": "3ba83be8-750f-48ef-8e72-1e90bcbabde9"
      },
      "outputs": [],
      "source": [
        "import cmath"
      ]
    },
    {
      "cell_type": "code",
      "execution_count": null,
      "id": "e4be69cb-bce4-4a01-84fc-585c1bd4c7aa",
      "metadata": {
        "id": "e4be69cb-bce4-4a01-84fc-585c1bd4c7aa"
      },
      "outputs": [],
      "source": [
        "#Problem 1.1\n",
        "def fact(n):\n",
        "    if n < 0:\n",
        "        print(\"Number is less than zero.\")\n",
        "        return None\n",
        "    if type(n) == int:\n",
        "        result = 1\n",
        "        for i in range(1, n+1):\n",
        "            result = result * i\n",
        "        return result\n",
        "    else:\n",
        "        print(\"Input is not an integer\")\n",
        "        return None"
      ]
    },
    {
      "cell_type": "code",
      "execution_count": null,
      "id": "f37a923c-b56a-406b-8276-e084cae9ac42",
      "metadata": {
        "id": "f37a923c-b56a-406b-8276-e084cae9ac42"
      },
      "outputs": [],
      "source": [
        "#An example of exception handling\n",
        "def sinc(x):\n",
        "    try:\n",
        "        return cmath.sin(x)/x\n",
        "    except ZeroDivisionError:\n",
        "        return 1"
      ]
    },
    {
      "cell_type": "code",
      "execution_count": null,
      "id": "01769afc-a16c-4824-b769-64eae56663d0",
      "metadata": {
        "id": "01769afc-a16c-4824-b769-64eae56663d0"
      },
      "outputs": [],
      "source": [
        "#Problem 1.2\n",
        "def descr_a(f, x):\n",
        "    print(\"Name of function: \", f)\n",
        "    print(\"Argument passed in: \", x)\n",
        "    print(\"Function evaluated at argument: \", f(x))"
      ]
    },
    {
      "cell_type": "code",
      "execution_count": null,
      "id": "a52c46e4-aa2a-45ca-b504-691a24902a2d",
      "metadata": {
        "id": "a52c46e4-aa2a-45ca-b504-691a24902a2d",
        "outputId": "ebd0332a-5c70-42a2-8215-8423ddbd3d7b"
      },
      "outputs": [
        {
          "name": "stdout",
          "output_type": "stream",
          "text": [
            "Name of function:  <class 'range'>\n",
            "Argument passed in:  2\n",
            "Function evaluated at argument:  range(0, 2)\n"
          ]
        }
      ],
      "source": [
        "#Problem 1.2(a)\n",
        "descr_a(range, 2)"
      ]
    },
    {
      "cell_type": "code",
      "execution_count": null,
      "id": "298e8f03-d16d-4535-bbbd-e7c051737ff0",
      "metadata": {
        "id": "298e8f03-d16d-4535-bbbd-e7c051737ff0",
        "outputId": "6991a154-5baa-4193-b4e5-5e7a4ddf95d2"
      },
      "outputs": [
        {
          "name": "stdout",
          "output_type": "stream",
          "text": [
            "Name of function:  <built-in function cos>\n",
            "Argument passed in:  0.5\n",
            "Function evaluated at argument:  (0.8775825618903728-0j)\n"
          ]
        }
      ],
      "source": [
        "descr_a(cmath.cos, 0.5)"
      ]
    },
    {
      "cell_type": "code",
      "execution_count": null,
      "id": "a7fea93b-6b92-45d4-9064-c92a41a2cadc",
      "metadata": {
        "id": "a7fea93b-6b92-45d4-9064-c92a41a2cadc"
      },
      "outputs": [],
      "source": [
        "#Problem 1.2(b)\n",
        "def descr_b(fstr, x):\n",
        "    possible_f = {'cmath.cos': cmath.cos, 'range': range}\n",
        "    print(\"Name of function: \", fstr)\n",
        "    print(\"Argument passed in: \", x)\n",
        "    print(\"Function evaluated at argument: \", possible_f[fstr](x))"
      ]
    },
    {
      "cell_type": "code",
      "execution_count": null,
      "id": "6580fbb6-7c7d-4ae6-b4ca-4741b055c0de",
      "metadata": {
        "id": "6580fbb6-7c7d-4ae6-b4ca-4741b055c0de",
        "outputId": "2ade7598-c9a5-4f28-89eb-01cab2ad486b"
      },
      "outputs": [
        {
          "name": "stdout",
          "output_type": "stream",
          "text": [
            "Name of function:  cmath.cos\n",
            "Argument passed in:  3\n",
            "Function evaluated at argument:  (-0.9899924966004454-0j)\n"
          ]
        }
      ],
      "source": [
        "descr_b('cmath.cos', 3)"
      ]
    },
    {
      "cell_type": "code",
      "execution_count": null,
      "id": "013150c1-9a0d-4652-a383-276931ae8248",
      "metadata": {
        "id": "013150c1-9a0d-4652-a383-276931ae8248"
      },
      "outputs": [],
      "source": [
        "#Problem 1.2(c)\n",
        "def descr_c(f, x):\n",
        "    possible_fstr = {cmath.cos: 'cmath.cos', range: 'range'}\n",
        "    print(\"Name of function: \", possible_fstr[f])\n",
        "    print(\"Argument passed in: \", x)\n",
        "    print(\"Function evaluated at argument: \", f(x))"
      ]
    },
    {
      "cell_type": "code",
      "execution_count": null,
      "id": "a10deb9a-b149-4e43-986c-07245927daea",
      "metadata": {
        "id": "a10deb9a-b149-4e43-986c-07245927daea",
        "outputId": "c598e1e9-60b5-4199-f5df-a35983926bec"
      },
      "outputs": [
        {
          "name": "stdout",
          "output_type": "stream",
          "text": [
            "Name of function:  cmath.cos\n",
            "Argument passed in:  3\n",
            "Function evaluated at argument:  (-0.9899924966004454-0j)\n"
          ]
        }
      ],
      "source": [
        "descr_c(cmath.cos, 3)"
      ]
    },
    {
      "cell_type": "code",
      "execution_count": null,
      "id": "e00488fb-7f02-4b07-8775-277a50683978",
      "metadata": {
        "id": "e00488fb-7f02-4b07-8775-277a50683978"
      },
      "outputs": [],
      "source": [
        "#Problem 1.4\n",
        "def der(f, x, h=0.01):\n",
        "    return (f(x+h) -f(x))/h"
      ]
    },
    {
      "cell_type": "code",
      "execution_count": null,
      "id": "c7feb12c-8bbc-4db1-ac3b-e49e57cbbd0e",
      "metadata": {
        "id": "c7feb12c-8bbc-4db1-ac3b-e49e57cbbd0e",
        "outputId": "b5dc0c09-c1fc-4ede-f478-fe176c6a1397"
      },
      "outputs": [
        {
          "data": {
            "text/plain": [
              "(0.8751708278704473+0j)"
            ]
          },
          "execution_count": 12,
          "metadata": {},
          "output_type": "execute_result"
        }
      ],
      "source": [
        "der(cmath.sin, 0.5)"
      ]
    },
    {
      "cell_type": "code",
      "execution_count": null,
      "id": "647d7aba-e5d3-4d85-8913-ca00a0c547ad",
      "metadata": {
        "id": "647d7aba-e5d3-4d85-8913-ca00a0c547ad"
      },
      "outputs": [],
      "source": [
        "def fa(x):\n",
        "    return cmath.cos(x)\n",
        "\n",
        "def fb(x):\n",
        "    return cmath.sin(x)\n",
        "\n",
        "def fc(x, a, b):\n",
        "    return a*fa(x)"
      ]
    },
    {
      "cell_type": "code",
      "execution_count": null,
      "id": "91e4f129-ee5f-4605-bb68-1bfc16c45161",
      "metadata": {
        "id": "91e4f129-ee5f-4605-bb68-1bfc16c45161",
        "outputId": "47a23a59-5b28-408b-cc39-2db64f4acda0"
      },
      "outputs": [
        {
          "data": {
            "text/plain": [
              "(0.22801351264529757+0j)"
            ]
          },
          "execution_count": 14,
          "metadata": {},
          "output_type": "execute_result"
        }
      ],
      "source": [
        "# Problem 1.4(b)\n",
        "x = 1\n",
        "a = 1.0\n",
        "b = 2.0\n",
        "der(lambda x: a*fa(x) + b*fb(x), x)"
      ]
    },
    {
      "cell_type": "code",
      "execution_count": null,
      "id": "26f80472-8820-4b7c-8f1e-1cfde05c3d3a",
      "metadata": {
        "id": "26f80472-8820-4b7c-8f1e-1cfde05c3d3a"
      },
      "outputs": [],
      "source": [
        "# Problem 1.4(c)\n",
        "def prob_1_4_partc(x):\n",
        "    a, b = 9, 7\n",
        "    func = lambda x: a*fa(x) + b*fb(x)\n",
        "    val = der(func, x)\n",
        "    #val = der(lambda x: a*fa(x) + b*fb(x), x)\n",
        "    return val"
      ]
    },
    {
      "cell_type": "code",
      "execution_count": null,
      "id": "b2f94e54-ce61-4df4-bd48-51fa433a4bdd",
      "metadata": {
        "id": "b2f94e54-ce61-4df4-bd48-51fa433a4bdd",
        "outputId": "f0302534-aa15-4579-8d54-9170c8e223d0"
      },
      "outputs": [
        {
          "data": {
            "text/plain": [
              "(-3.844824177322792+0j)"
            ]
          },
          "execution_count": 16,
          "metadata": {},
          "output_type": "execute_result"
        }
      ],
      "source": [
        "prob_1_4_partc(1)"
      ]
    },
    {
      "cell_type": "code",
      "execution_count": null,
      "id": "4379f991-a962-4f1e-9c8c-56995c5a6074",
      "metadata": {
        "id": "4379f991-a962-4f1e-9c8c-56995c5a6074"
      },
      "outputs": [],
      "source": [
        "# Problem 1.4(d)\n",
        "def prob_1_4_partd(x):\n",
        "#def caller(x):\n",
        "    a, b = 9, 7\n",
        "    def func(x):\n",
        "        return a*fa(x)+b*fb(x)\n",
        "    val = der(func, x)\n",
        "    return val\n",
        ""
      ]
    },
    {
      "cell_type": "code",
      "execution_count": null,
      "id": "0c653703",
      "metadata": {
        "id": "0c653703",
        "outputId": "6db93cd8-c6ce-48ed-aec7-0895d234e926"
      },
      "outputs": [
        {
          "data": {
            "text/plain": [
              "(-3.844824177322792+0j)"
            ]
          },
          "execution_count": 18,
          "metadata": {},
          "output_type": "execute_result"
        }
      ],
      "source": [
        "prob_1_4_partd(1)"
      ]
    },
    {
      "cell_type": "code",
      "execution_count": null,
      "id": "6c6a1a09-45a8-4c88-9977-15e7edd86ae6",
      "metadata": {
        "id": "6c6a1a09-45a8-4c88-9977-15e7edd86ae6"
      },
      "outputs": [],
      "source": [
        "# Problem 1.4(e)\n",
        "def prob_1_4_parte(a,b):\n",
        "    def func(x):\n",
        "        return a*fa(x)+b*fb(x)\n",
        "    return func"
      ]
    },
    {
      "cell_type": "code",
      "execution_count": null,
      "id": "59277b5a",
      "metadata": {
        "id": "59277b5a",
        "outputId": "e738b4ed-9978-4b84-d980-b679eb39f878"
      },
      "outputs": [
        {
          "data": {
            "text/plain": [
              "(-3.844824177322792+0j)"
            ]
          },
          "execution_count": 20,
          "metadata": {},
          "output_type": "execute_result"
        }
      ],
      "source": [
        "fu = prob_1_4_parte(9, 7)\n",
        "val = der(fu, 1)\n",
        "val"
      ]
    },
    {
      "cell_type": "markdown",
      "id": "5b930ca6-96de-40bb-bd84-e9c0d02935a2",
      "metadata": {
        "id": "5b930ca6-96de-40bb-bd84-e9c0d02935a2"
      },
      "source": [
        "To recap, the point is that if we have a well-tested function (der in this case) that takes in only one variable der(x); but we want to use it on a function my_func(a,b,x) which has parameters that can be set -- then we don't want to go into der() and mess it up. We don't want to go about changing func as well. Instead, we make a nested function -- func_der in the example below."
      ]
    },
    {
      "cell_type": "code",
      "execution_count": null,
      "id": "ba99918c-8ccc-4df9-96bb-e784abe50141",
      "metadata": {
        "id": "ba99918c-8ccc-4df9-96bb-e784abe50141"
      },
      "outputs": [],
      "source": [
        "def der(f, x, h=0.01):\n",
        "    return (f(x+h) -f(x))/h\n",
        "\n",
        "def my_func(x, a, b):\n",
        "    return a*cmath.cos(x) + b*cmath.sin(x)"
      ]
    },
    {
      "cell_type": "code",
      "execution_count": null,
      "id": "3c311a4e",
      "metadata": {
        "id": "3c311a4e"
      },
      "outputs": [],
      "source": [
        "#Here, I could have replaced a_inside, and a_ with a --\n",
        "#and still get the same functionality (local over global applies)\n",
        "def func_der(x, a_inside, b_inside):\n",
        "    def fu(x, a_ = a_inside, b_ = b_inside):\n",
        "        return a_*cmath.cos(x) + b_*cmath.sin(x)\n",
        "    der_val = der(fu, x)\n",
        "    return der_val"
      ]
    },
    {
      "cell_type": "code",
      "execution_count": null,
      "id": "88181f5e-b248-493b-baf8-26d808192330",
      "metadata": {
        "id": "88181f5e-b248-493b-baf8-26d808192330",
        "outputId": "9cecdde6-952a-4b8c-8123-59f5ef4b9c5f"
      },
      "outputs": [
        {
          "data": {
            "text/plain": [
              "(-3.844824177322792+0j)"
            ]
          },
          "execution_count": 23,
          "metadata": {},
          "output_type": "execute_result"
        }
      ],
      "source": [
        "func_der(1, 9, 7)"
      ]
    },
    {
      "cell_type": "code",
      "execution_count": null,
      "id": "961322b6-4d9e-4f63-a164-f50757441b26",
      "metadata": {
        "id": "961322b6-4d9e-4f63-a164-f50757441b26"
      },
      "outputs": [],
      "source": [
        "def func_der_again(x, a, b):\n",
        "    def fu(x, a = a, b = b):\n",
        "        return a*cmath.cos(x) + b*cmath.sin(x)\n",
        "    der_val = der(fu, x)\n",
        "    return der_val"
      ]
    },
    {
      "cell_type": "code",
      "execution_count": null,
      "id": "a9329c1d-6612-4bb4-8ddf-e090d75b307c",
      "metadata": {
        "id": "a9329c1d-6612-4bb4-8ddf-e090d75b307c",
        "outputId": "90cf230b-2b5e-443e-8392-9648608a5d4d"
      },
      "outputs": [
        {
          "data": {
            "text/plain": [
              "(-3.844824177322792+0j)"
            ]
          },
          "execution_count": 25,
          "metadata": {},
          "output_type": "execute_result"
        }
      ],
      "source": [
        "func_der_again(1, 9, 7)"
      ]
    },
    {
      "cell_type": "raw",
      "id": "59097e65-55f8-4ffb-96a1-722c3b0cc106",
      "metadata": {
        "id": "59097e65-55f8-4ffb-96a1-722c3b0cc106"
      },
      "source": []
    },
    {
      "cell_type": "markdown",
      "id": "7781b0d8-235f-4e72-94af-e8620c600702",
      "metadata": {
        "id": "7781b0d8-235f-4e72-94af-e8620c600702"
      },
      "source": [
        "Here's something a bit more advanced -- using args (arguments)"
      ]
    },
    {
      "cell_type": "code",
      "execution_count": null,
      "id": "8644e8b7-adb2-47e2-ab3d-3e5850f8acde",
      "metadata": {
        "id": "8644e8b7-adb2-47e2-ab3d-3e5850f8acde"
      },
      "outputs": [],
      "source": [
        "def func_gen(x, a, b, c):\n",
        "    return a*fa(x) + b*fb(x) + c*fa(x)*fb(x)\n",
        "\n",
        "def der_gen(func_gen, x, *args):\n",
        "    der_val = der(lambda x: func_gen(x, *args), x)\n",
        "    return der_val"
      ]
    },
    {
      "cell_type": "code",
      "execution_count": null,
      "id": "47417f72-5305-4a57-bdda-35b481f782cf",
      "metadata": {
        "id": "47417f72-5305-4a57-bdda-35b481f782cf",
        "outputId": "577a9e16-f3d7-483c-88f5-b525283339a4"
      },
      "outputs": [
        {
          "data": {
            "text/plain": [
              "(-3.844824177322792+0j)"
            ]
          },
          "execution_count": 93,
          "metadata": {},
          "output_type": "execute_result"
        }
      ],
      "source": [
        "der_gen(func_gen, x, 9, 7, 0)"
      ]
    },
    {
      "cell_type": "code",
      "execution_count": null,
      "id": "50f10dc9-6f60-452d-a386-bf19664648f5",
      "metadata": {
        "id": "50f10dc9-6f60-452d-a386-bf19664648f5"
      },
      "outputs": [],
      "source": []
    },
    {
      "cell_type": "code",
      "execution_count": null,
      "id": "18775073-5da3-47e2-947d-de4e10a1585f",
      "metadata": {
        "id": "18775073-5da3-47e2-947d-de4e10a1585f"
      },
      "outputs": [],
      "source": []
    }
  ],
  "metadata": {
    "kernelspec": {
      "display_name": "Python [conda env:ap155]",
      "language": "python",
      "name": "conda-env-ap155-py"
    },
    "language_info": {
      "codemirror_mode": {
        "name": "ipython",
        "version": 3
      },
      "file_extension": ".py",
      "mimetype": "text/x-python",
      "name": "python",
      "nbconvert_exporter": "python",
      "pygments_lexer": "ipython3",
      "version": "3.10.6"
    },
    "colab": {
      "provenance": [],
      "include_colab_link": true
    }
  },
  "nbformat": 4,
  "nbformat_minor": 5
}